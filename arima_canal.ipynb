{
 "cells": [
  {
   "cell_type": "markdown",
   "metadata": {},
   "source": [
    "<h4>Paso 1: Explorar la Data de la Serie de Tiempo</h4>"
   ]
  },
  {
   "cell_type": "markdown",
   "metadata": {},
   "source": [
    "Establecer en R el directorio de trabajo en el que se descargaron los registros (<a href=\"https://drive.google.com/file/d/1e8XsB-3tcJUgiq_Upp7VQSRo2stjquO3/view?usp=sharing\" target=\"_blank\">canal.csv</a>) y cargar la data.</div>"
   ]
  },
  {
   "cell_type": "code",
   "execution_count": 1,
   "metadata": {},
   "outputs": [],
   "source": [
    "setwd('C:/Mis documentos/trabajos/sistemas/Red Norte/Infraestructura/The Dude')\n",
    "data = read.csv('canal.csv')"
   ]
  },
  {
   "cell_type": "markdown",
   "metadata": {},
   "source": [
    "Ver la data cargada."
   ]
  },
  {
   "cell_type": "code",
   "execution_count": 2,
   "metadata": {},
   "outputs": [
    {
     "data": {
      "text/html": [
       "<table>\n",
       "<thead><tr><th scope=col>Consumo</th></tr></thead>\n",
       "<tbody>\n",
       "\t<tr><td>266636404096</td></tr>\n",
       "\t<tr><td>293493365541</td></tr>\n",
       "\t<tr><td>259932652065</td></tr>\n",
       "\t<tr><td>132261732615</td></tr>\n",
       "\t<tr><td>128348485314</td></tr>\n",
       "\t<tr><td>160120214917</td></tr>\n",
       "\t<tr><td>135495436984</td></tr>\n",
       "\t<tr><td>271399410091</td></tr>\n",
       "\t<tr><td>263818612207</td></tr>\n",
       "\t<tr><td>257733472823</td></tr>\n",
       "\t<tr><td>118534684155</td></tr>\n",
       "\t<tr><td>115054751145</td></tr>\n",
       "\t<tr><td>270488543023</td></tr>\n",
       "\t<tr><td>295440727726</td></tr>\n",
       "\t<tr><td>300798190341</td></tr>\n",
       "\t<tr><td>285808478225</td></tr>\n",
       "\t<tr><td>252001376281</td></tr>\n",
       "\t<tr><td>139331760485</td></tr>\n",
       "\t<tr><td>116795749672</td></tr>\n",
       "\t<tr><td>131509540835</td></tr>\n",
       "\t<tr><td>278365204662</td></tr>\n",
       "\t<tr><td>274916086170</td></tr>\n",
       "\t<tr><td>281522755501</td></tr>\n",
       "\t<tr><td>255387014386</td></tr>\n",
       "\t<tr><td>133757933520</td></tr>\n",
       "\t<tr><td>132731992654</td></tr>\n",
       "\t<tr><td>279763703315</td></tr>\n",
       "\t<tr><td>301365147737</td></tr>\n",
       "\t<tr><td>359057870965</td></tr>\n",
       "\t<tr><td>305595560215</td></tr>\n",
       "\t<tr><td>257617762883</td></tr>\n",
       "\t<tr><td>146265288908</td></tr>\n",
       "\t<tr><td>141860539022</td></tr>\n",
       "\t<tr><td>267771411558</td></tr>\n",
       "\t<tr><td>285466877793</td></tr>\n",
       "\t<tr><td>269263890296</td></tr>\n",
       "\t<tr><td>290815647694</td></tr>\n",
       "\t<tr><td>256777917323</td></tr>\n",
       "\t<tr><td>136162481668</td></tr>\n",
       "\t<tr><td>137872145327</td></tr>\n",
       "\t<tr><td>298429272994</td></tr>\n",
       "\t<tr><td>320394857372</td></tr>\n",
       "\t<tr><td>317190905319</td></tr>\n",
       "\t<tr><td>300519682307</td></tr>\n",
       "\t<tr><td>270655946701</td></tr>\n",
       "\t<tr><td>176520290848</td></tr>\n",
       "\t<tr><td>167619216878</td></tr>\n",
       "\t<tr><td>282709381392</td></tr>\n",
       "\t<tr><td>326847121013</td></tr>\n",
       "\t<tr><td>322350876161</td></tr>\n",
       "\t<tr><td>321777262661</td></tr>\n",
       "\t<tr><td>287433127620</td></tr>\n",
       "\t<tr><td>168210510693</td></tr>\n",
       "\t<tr><td>150604089322</td></tr>\n",
       "\t<tr><td>310720475540</td></tr>\n",
       "\t<tr><td>303722110048</td></tr>\n",
       "\t<tr><td>313733874888</td></tr>\n",
       "\t<tr><td>316735964588</td></tr>\n",
       "\t<tr><td>293121922998</td></tr>\n",
       "\t<tr><td>157948882003</td></tr>\n",
       "</tbody>\n",
       "</table>\n"
      ],
      "text/latex": [
       "\\begin{tabular}{r|l}\n",
       " Consumo\\\\\n",
       "\\hline\n",
       "\t 266636404096\\\\\n",
       "\t 293493365541\\\\\n",
       "\t 259932652065\\\\\n",
       "\t 132261732615\\\\\n",
       "\t 128348485314\\\\\n",
       "\t 160120214917\\\\\n",
       "\t 135495436984\\\\\n",
       "\t 271399410091\\\\\n",
       "\t 263818612207\\\\\n",
       "\t 257733472823\\\\\n",
       "\t 118534684155\\\\\n",
       "\t 115054751145\\\\\n",
       "\t 270488543023\\\\\n",
       "\t 295440727726\\\\\n",
       "\t 300798190341\\\\\n",
       "\t 285808478225\\\\\n",
       "\t 252001376281\\\\\n",
       "\t 139331760485\\\\\n",
       "\t 116795749672\\\\\n",
       "\t 131509540835\\\\\n",
       "\t 278365204662\\\\\n",
       "\t 274916086170\\\\\n",
       "\t 281522755501\\\\\n",
       "\t 255387014386\\\\\n",
       "\t 133757933520\\\\\n",
       "\t 132731992654\\\\\n",
       "\t 279763703315\\\\\n",
       "\t 301365147737\\\\\n",
       "\t 359057870965\\\\\n",
       "\t 305595560215\\\\\n",
       "\t 257617762883\\\\\n",
       "\t 146265288908\\\\\n",
       "\t 141860539022\\\\\n",
       "\t 267771411558\\\\\n",
       "\t 285466877793\\\\\n",
       "\t 269263890296\\\\\n",
       "\t 290815647694\\\\\n",
       "\t 256777917323\\\\\n",
       "\t 136162481668\\\\\n",
       "\t 137872145327\\\\\n",
       "\t 298429272994\\\\\n",
       "\t 320394857372\\\\\n",
       "\t 317190905319\\\\\n",
       "\t 300519682307\\\\\n",
       "\t 270655946701\\\\\n",
       "\t 176520290848\\\\\n",
       "\t 167619216878\\\\\n",
       "\t 282709381392\\\\\n",
       "\t 326847121013\\\\\n",
       "\t 322350876161\\\\\n",
       "\t 321777262661\\\\\n",
       "\t 287433127620\\\\\n",
       "\t 168210510693\\\\\n",
       "\t 150604089322\\\\\n",
       "\t 310720475540\\\\\n",
       "\t 303722110048\\\\\n",
       "\t 313733874888\\\\\n",
       "\t 316735964588\\\\\n",
       "\t 293121922998\\\\\n",
       "\t 157948882003\\\\\n",
       "\\end{tabular}\n"
      ],
      "text/markdown": [
       "\n",
       "| Consumo |\n",
       "|---|\n",
       "| 266636404096 |\n",
       "| 293493365541 |\n",
       "| 259932652065 |\n",
       "| 132261732615 |\n",
       "| 128348485314 |\n",
       "| 160120214917 |\n",
       "| 135495436984 |\n",
       "| 271399410091 |\n",
       "| 263818612207 |\n",
       "| 257733472823 |\n",
       "| 118534684155 |\n",
       "| 115054751145 |\n",
       "| 270488543023 |\n",
       "| 295440727726 |\n",
       "| 300798190341 |\n",
       "| 285808478225 |\n",
       "| 252001376281 |\n",
       "| 139331760485 |\n",
       "| 116795749672 |\n",
       "| 131509540835 |\n",
       "| 278365204662 |\n",
       "| 274916086170 |\n",
       "| 281522755501 |\n",
       "| 255387014386 |\n",
       "| 133757933520 |\n",
       "| 132731992654 |\n",
       "| 279763703315 |\n",
       "| 301365147737 |\n",
       "| 359057870965 |\n",
       "| 305595560215 |\n",
       "| 257617762883 |\n",
       "| 146265288908 |\n",
       "| 141860539022 |\n",
       "| 267771411558 |\n",
       "| 285466877793 |\n",
       "| 269263890296 |\n",
       "| 290815647694 |\n",
       "| 256777917323 |\n",
       "| 136162481668 |\n",
       "| 137872145327 |\n",
       "| 298429272994 |\n",
       "| 320394857372 |\n",
       "| 317190905319 |\n",
       "| 300519682307 |\n",
       "| 270655946701 |\n",
       "| 176520290848 |\n",
       "| 167619216878 |\n",
       "| 282709381392 |\n",
       "| 326847121013 |\n",
       "| 322350876161 |\n",
       "| 321777262661 |\n",
       "| 287433127620 |\n",
       "| 168210510693 |\n",
       "| 150604089322 |\n",
       "| 310720475540 |\n",
       "| 303722110048 |\n",
       "| 313733874888 |\n",
       "| 316735964588 |\n",
       "| 293121922998 |\n",
       "| 157948882003 |\n",
       "\n"
      ],
      "text/plain": [
       "   Consumo     \n",
       "1  266636404096\n",
       "2  293493365541\n",
       "3  259932652065\n",
       "4  132261732615\n",
       "5  128348485314\n",
       "6  160120214917\n",
       "7  135495436984\n",
       "8  271399410091\n",
       "9  263818612207\n",
       "10 257733472823\n",
       "11 118534684155\n",
       "12 115054751145\n",
       "13 270488543023\n",
       "14 295440727726\n",
       "15 300798190341\n",
       "16 285808478225\n",
       "17 252001376281\n",
       "18 139331760485\n",
       "19 116795749672\n",
       "20 131509540835\n",
       "21 278365204662\n",
       "22 274916086170\n",
       "23 281522755501\n",
       "24 255387014386\n",
       "25 133757933520\n",
       "26 132731992654\n",
       "27 279763703315\n",
       "28 301365147737\n",
       "29 359057870965\n",
       "30 305595560215\n",
       "31 257617762883\n",
       "32 146265288908\n",
       "33 141860539022\n",
       "34 267771411558\n",
       "35 285466877793\n",
       "36 269263890296\n",
       "37 290815647694\n",
       "38 256777917323\n",
       "39 136162481668\n",
       "40 137872145327\n",
       "41 298429272994\n",
       "42 320394857372\n",
       "43 317190905319\n",
       "44 300519682307\n",
       "45 270655946701\n",
       "46 176520290848\n",
       "47 167619216878\n",
       "48 282709381392\n",
       "49 326847121013\n",
       "50 322350876161\n",
       "51 321777262661\n",
       "52 287433127620\n",
       "53 168210510693\n",
       "54 150604089322\n",
       "55 310720475540\n",
       "56 303722110048\n",
       "57 313733874888\n",
       "58 316735964588\n",
       "59 293121922998\n",
       "60 157948882003"
      ]
     },
     "metadata": {},
     "output_type": "display_data"
    }
   ],
   "source": [
    "data"
   ]
  },
  {
   "cell_type": "markdown",
   "metadata": {},
   "source": [
    "Graficarla la data en Mb/s para lo cual se divide la data por 10800000000 el cual es el resultado de la ecuación (horas 24)*(minutos 60)*(segundos 60)*(bit 1000)*(Kb 1000)/(escala 8)."
   ]
  },
  {
   "cell_type": "code",
   "execution_count": 3,
   "metadata": {},
   "outputs": [
    {
     "data": {
      "image/png": "[encoded data removed]",
      "text/plain": [
       "plot without title"
      ]
     },
     "metadata": {},
     "output_type": "display_data"
    }
   ],
   "source": [
    "plot(data$Consumo/10800000000, type='l', xlab='Dias', ylab='Consumo (Mb/s)')\n",
    "axis(side=1, at=c(1:60), labels=FALSE)\n",
    "axis(side=1, at=c(1:60), labels=FALSE)\n",
    "abline(lm(data$Consumo/10800000000~c(1:60)), lty=2, col='blue')\n",
    "legend(\"topleft\", legend=c(\"Data\", \"Regresion Lineal\"), col=c(\"black\", \"blue\"), lty=1:2, cex=0.8)"
   ]
  },
  {
   "cell_type": "markdown",
   "metadata": {},
   "source": [
    "Analizando la gráfica se evidencian periodos estacionales de 7 días, es decir semanales y la regresión lineal muestra una tendencia ascendente en función del tiempo.\n",
    "Teniendo en cuenta lo los periodos estacionales se almacena la data en una serie de tiempo de frecuencia 7."
   ]
  },
  {
   "cell_type": "code",
   "execution_count": 4,
   "metadata": {},
   "outputs": [],
   "source": [
    "datats = ts(data, start=c(1,1), frequency=7)"
   ]
  },
  {
   "cell_type": "markdown",
   "metadata": {},
   "source": [
    "Generar la gráfica de la Media de Consumo del Canal por Semana."
   ]
  },
  {
   "cell_type": "code",
   "execution_count": 5,
   "metadata": {},
   "outputs": [
    {
     "data": {
      "image/png": "[encoded data removed]",
      "text/plain": [
       "plot without title"
      ]
     },
     "metadata": {},
     "output_type": "display_data"
    }
   ],
   "source": [
    "plot(aggregate(datats/10800000000,FUN=mean), xlab='Semanas', ylab='Media de Consumo (Mb/s)')"
   ]
  },
  {
   "cell_type": "markdown",
   "metadata": {},
   "source": [
    "La gráfica evidencia que la media de consumo presenta una tendencia ascendente en función del tiempo.\n",
    "Generar gráficos de caja y bigote por los días de la semana."
   ]
  },
  {
   "cell_type": "code",
   "execution_count": 6,
   "metadata": {},
   "outputs": [
    {
     "data": {
      "image/png": "[encoded data removed]",
      "text/plain": [
       "plot without title"
      ]
     },
     "metadata": {},
     "output_type": "display_data"
    }
   ],
   "source": [
    "boxplot(datats/10800000000~cycle(datats), xlab='Dias', ylab='Consumo (Mb/s)')"
   ]
  },
  {
   "cell_type": "markdown",
   "metadata": {},
   "source": [
    "La gráfica evidencia que la media de cada día es diferente, su varianza es corta y en los días 4 y 5 es muy inferior con respecto a los demás días por lo que se puede inferir que la serie de tiempo es fuertemente estacional en periodos semanales."
   ]
  },
  {
   "cell_type": "markdown",
   "metadata": {},
   "source": [
    "Generar la gráfica de los componentes de la serie de tiempo."
   ]
  },
  {
   "cell_type": "code",
   "execution_count": 7,
   "metadata": {},
   "outputs": [
    {
     "data": {
      "image/png": "[encoded data removed]",
      "text/plain": [
       "plot without title"
      ]
     },
     "metadata": {},
     "output_type": "display_data"
    }
   ],
   "source": [
    "datatsdecom = decompose(datats/10800000000)\n",
    "plot(datatsdecom)"
   ]
  },
  {
   "cell_type": "markdown",
   "metadata": {},
   "source": [
    "Los gráficos generados en la exploración de la Data permiten inferir que la serie temporal es No Estacionaria ya que su media y su varianza varían en función del tiempo por lo que se debe transformarla para poder aplicarle algoritmos de predicción."
   ]
  },
  {
   "cell_type": "markdown",
   "metadata": {},
   "source": [
    "<h4>Paso 2: Estacionarizar la Serie de Tiempo</h4>"
   ]
  },
  {
   "cell_type": "markdown",
   "metadata": {},
   "source": [
    "Generar gráfica de la Data aplicándole diferencia de orden 1 para ver la Data transformada en Estacionaria en Media (eliminar tendencia)."
   ]
  },
  {
   "cell_type": "code",
   "execution_count": 8,
   "metadata": {},
   "outputs": [
    {
     "name": "stderr",
     "output_type": "stream",
     "text": [
      "Registered S3 method overwritten by 'xts':\n",
      "  method     from\n",
      "  as.zoo.xts zoo \n",
      "Registered S3 method overwritten by 'quantmod':\n",
      "  method            from\n",
      "  as.zoo.data.frame zoo \n"
     ]
    },
    {
     "data": {
      "image/png": "[encoded data removed]",
      "text/plain": [
       "plot without title"
      ]
     },
     "metadata": {},
     "output_type": "display_data"
    }
   ],
   "source": [
    "library(tseries)\n",
    "plot(diff(datats/10800000000), xlab='Semanas', ylab='Diferenciado(Consumo (Mb/s))')"
   ]
  },
  {
   "cell_type": "markdown",
   "metadata": {},
   "source": [
    "Generar gráfica de la Data aplicándole logaritmo para ver la Data transformada en Estacionaria en Varianza."
   ]
  },
  {
   "cell_type": "code",
   "execution_count": 9,
   "metadata": {},
   "outputs": [
    {
     "data": {
      "image/png": "[encoded data removed]",
      "text/plain": [
       "plot without title"
      ]
     },
     "metadata": {},
     "output_type": "display_data"
    }
   ],
   "source": [
    "plot(log10(datats), xlab='Semanas', ylab='Logaritmo(Consumo)')"
   ]
  },
  {
   "cell_type": "markdown",
   "metadata": {},
   "source": [
    "Generar gráfica de la Data aplicándole diferencia de orden 1 al logaritmo para ver la Data transformada en Estacionaria en Media y en Varianza."
   ]
  },
  {
   "cell_type": "code",
   "execution_count": 10,
   "metadata": {},
   "outputs": [
    {
     "data": {
      "image/png": "[encoded data removed]",
      "text/plain": [
       "plot without title"
      ]
     },
     "metadata": {},
     "output_type": "display_data"
    }
   ],
   "source": [
    "plot(diff(log10(datats)), xlab='Semanas', ylab='Diferenciado(Logaritmo(Consumo))')"
   ]
  },
  {
   "cell_type": "markdown",
   "metadata": {},
   "source": [
    "Generar test de Estacionariedad de la Data transformada."
   ]
  },
  {
   "cell_type": "code",
   "execution_count": 11,
   "metadata": {},
   "outputs": [
    {
     "name": "stderr",
     "output_type": "stream",
     "text": [
      "Warning message in adf.test(diff(log10(datats)), alternative = \"stationary\", k = 0):\n",
      "\"p-value smaller than printed p-value\""
     ]
    },
    {
     "data": {
      "text/plain": [
       "\n",
       "\tAugmented Dickey-Fuller Test\n",
       "\n",
       "data:  diff(log10(datats))\n",
       "Dickey-Fuller = -6.4853, Lag order = 0, p-value = 0.01\n",
       "alternative hypothesis: stationary\n"
      ]
     },
     "metadata": {},
     "output_type": "display_data"
    }
   ],
   "source": [
    "adf.test(diff(log10(datats)), alternative=\"stationary\", k=0)"
   ]
  },
  {
   "cell_type": "markdown",
   "metadata": {},
   "source": [
    "El resultado del test generó un p-valor menor a 0.05 por lo que no se rechaza la hipotesis de Estacionariedad de la Data transformada."
   ]
  },
  {
   "cell_type": "markdown",
   "metadata": {},
   "source": [
    "<h4>Paso 3: Estimación y Verificación</h4>"
   ]
  },
  {
   "cell_type": "markdown",
   "metadata": {},
   "source": [
    "Generar las gráficas de ACF (Autocorrelación Simple) y PACF (Autocorrelación Parcial) para identificar los patrones en donde la Data transformada es Estacionaria en Media y en Varianza, por medio de identificar la presencia de componentes AR (Autoregresión) y MA (Media Móvil) en los residuales."
   ]
  },
  {
   "cell_type": "code",
   "execution_count": 12,
   "metadata": {},
   "outputs": [
    {
     "data": {
      "image/png": "[encoded data removed]",
      "text/plain": [
       "Plot with title \"PACF Diff Log (Consumo)\""
      ]
     },
     "metadata": {},
     "output_type": "display_data"
    }
   ],
   "source": [
    "par(mfrow = c(1,2))\n",
    "acf(ts(diff(log10(datats))), main='ACF Diff Log (Consumo)')\n",
    "pacf(ts(diff(log10(datats))), main='PACF Diff Log (Consumo)')"
   ]
  },
  {
   "cell_type": "markdown",
   "metadata": {},
   "source": [
    "ACF mide la correlación entre dos variables separadas por k periodos o Lag (retrasos). En la gráfica la barra del retraso 0 toma el valor 1 ya que los datos sin retraso son los mismos y están autocorrelacionados, en algunos retrasos la barra sale de la zona de insignificancia (linea punteada azul) lo que implica que los residuales no son aleatorios y todavía contienen información, adicionalmente en los retrasos 7 y 14 la barra muestra picos evidenciando componentes de estacionalidad."
   ]
  },
  {
   "cell_type": "markdown",
   "metadata": {},
   "source": [
    "PACF mide la correlación entre dos variables separadas por k periodos cuando no se considera la dependencia creada por los retardos intermedios existentes entre ambas. (Ver <a href=\"https://drive.google.com/file/d/1MMt9eN82QRzN1X3boRvMhWu0MRdqkDev/view?usp=sharing\" target=\"_blank\">Introducción a Series de Tiempo</a>)."
   ]
  },
  {
   "cell_type": "markdown",
   "metadata": {},
   "source": [
    "Interpretando las barras que salen de la zona de insignificancia en ACF y en PACF se identifican los posibles parámetros que al aplicarlos en ARIMA generen el modelo más ajustado, es decir, aquel cuyos residuales sean aleatorios (ruido blanco)."
   ]
  },
  {
   "cell_type": "markdown",
   "metadata": {},
   "source": [
    "La búsqueda de los parámetros para el mejor ajuste de ARIMA se puede automatizar con la función auto.arima() de la siguiente manera."
   ]
  },
  {
   "cell_type": "code",
   "execution_count": 13,
   "metadata": {},
   "outputs": [
    {
     "name": "stderr",
     "output_type": "stream",
     "text": [
      "Registered S3 methods overwritten by 'forecast':\n",
      "  method             from    \n",
      "  fitted.fracdiff    fracdiff\n",
      "  residuals.fracdiff fracdiff\n"
     ]
    },
    {
     "name": "stdout",
     "output_type": "stream",
     "text": [
      "Series: log10(datats) \n",
      "ARIMA(0,0,0)(1,1,1)[7] with drift \n",
      "\n",
      "Coefficients:\n",
      "         sar1     sma1   drift\n",
      "      -0.5730  -0.4205  0.0025\n",
      "s.e.   0.1538   0.1954  0.0006\n",
      "\n",
      "sigma^2 estimated as 0.004202:  log likelihood=67.88\n",
      "AIC=-127.76   AICc=-126.93   BIC=-119.88\n",
      "\n",
      "Training set error measures:\n",
      "                      ME      RMSE        MAE        MPE     MAPE      MASE\n",
      "Training set 0.003590528 0.0591736 0.03856933 0.03022437 0.339331 0.7145298\n",
      "                 ACF1\n",
      "Training set 0.134734\n"
     ]
    }
   ],
   "source": [
    "library(forecast)\n",
    "ARIMAfit = auto.arima(log10(datats), approximation=FALSE, trace=FALSE)\n",
    "summary(ARIMAfit)"
   ]
  },
  {
   "cell_type": "markdown",
   "metadata": {},
   "source": [
    "Generar test de ruido blanco."
   ]
  },
  {
   "cell_type": "code",
   "execution_count": 14,
   "metadata": {},
   "outputs": [
    {
     "data": {
      "image/png": "[encoded data removed]",
      "text/plain": [
       "Plot with title \"p values for Ljung-Box statistic\""
      ]
     },
     "metadata": {},
     "output_type": "display_data"
    }
   ],
   "source": [
    "tsdiag(ARIMAfit)"
   ]
  },
  {
   "cell_type": "markdown",
   "metadata": {},
   "source": [
    "El ACF aplicado a los residuos no presenta retrasos en los que las barras salgan de la zona de insignificancia y en el test Ljung-Box el p-valor es superior al 0.05 por lo que no se rechaza la hipotesis de la distribución de los residuos como ruido blanco."
   ]
  },
  {
   "cell_type": "markdown",
   "metadata": {},
   "source": [
    "<h4>Paso 4: Predicción</h4>"
   ]
  },
  {
   "cell_type": "markdown",
   "metadata": {},
   "source": [
    "Ver la data resultante de la predicción."
   ]
  },
  {
   "cell_type": "code",
   "execution_count": 15,
   "metadata": {},
   "outputs": [
    {
     "data": {
      "text/plain": [
       "          Point Forecast    Lo 80    Hi 80    Lo 95    Hi 95\n",
       " 9.571429       11.23386 11.15079 11.31693 11.10681 11.36091\n",
       " 9.714286       11.49436 11.41128 11.57743 11.36731 11.62140\n",
       " 9.857143       11.54833 11.46526 11.63141 11.42129 11.67538\n",
       "10.000000       11.54565 11.46258 11.62873 11.41861 11.67270\n",
       "10.142857       11.54000 11.45692 11.62307 11.41295 11.66704\n",
       "10.285714       11.49056 11.40749 11.57363 11.36351 11.61761\n",
       "10.428571       11.26258 11.17951 11.34565 11.13553 11.38963\n",
       "10.571429       11.22899 11.14591 11.31206 11.10193 11.35604\n",
       "10.714286       11.52044 11.43737 11.60352 11.39339 11.64749\n",
       "10.857143       11.53782 11.45475 11.62090 11.41077 11.66487\n",
       "11.000000       11.54475 11.46168 11.62782 11.41770 11.67180\n",
       "11.142857       11.54470 11.46163 11.62778 11.41765 11.67175\n",
       "11.285714       11.50431 11.42124 11.58739 11.37726 11.63136\n",
       "11.428571       11.25310 11.17002 11.33617 11.12605 11.38015\n",
       "11.571429       11.25900 11.16315 11.35486 11.11240 11.40561\n",
       "11.714286       11.53272 11.43686 11.62858 11.38612 11.67932\n",
       "11.857143       11.57107 11.47521 11.66693 11.42447 11.71767\n",
       "12.000000       11.57249 11.47663 11.66835 11.42589 11.71910\n",
       "12.142857       11.56923 11.47337 11.66509 11.42263 11.71583\n",
       "12.285714       11.52366 11.42780 11.61952 11.37706 11.67026\n",
       "12.428571       11.28576 11.18990 11.38161 11.13915 11.43236\n",
       "12.571429       11.26903 11.17095 11.36710 11.11904 11.41902\n",
       "12.714286       11.55291 11.45484 11.65098 11.40292 11.70290\n",
       "12.857143       11.57924 11.48117 11.67732 11.42925 11.72924\n",
       "13.000000       11.58382 11.48575 11.68190 11.43383 11.73381\n",
       "13.142857       11.58240 11.48433 11.68048 11.43241 11.73239\n",
       "13.285714       11.53980 11.44172 11.63787 11.38981 11.68979\n",
       "13.428571       11.29427 11.19619 11.39234 11.14428 11.44426\n",
       "13.571429       11.29051 11.18595 11.39507 11.13060 11.45042\n",
       "13.714286       11.56857 11.46400 11.67313 11.40865 11.72848"
      ]
     },
     "metadata": {},
     "output_type": "display_data"
    }
   ],
   "source": [
    "par(mfrow = c(1,1))\n",
    "pred = forecast(ARIMAfit, h = 30)\n",
    "pred"
   ]
  },
  {
   "cell_type": "markdown",
   "metadata": {},
   "source": [
    "Generar gráfica de la Serie Temporal y su predicción."
   ]
  },
  {
   "cell_type": "code",
   "execution_count": 16,
   "metadata": {},
   "outputs": [
    {
     "data": {
      "image/png": "[encoded data removed]",
      "text/plain": [
       "plot without title"
      ]
     },
     "metadata": {},
     "output_type": "display_data"
    }
   ],
   "source": [
    "plot(datats/10800000000,type='l', xlim=c(1,13), ylim=c(1,50), xlab='Semanas', ylab='Consumo (Mb/s)')\n",
    "lines((10^(pred$mean))/10800000000, col='blue')\n",
    "lines((10^(pred$lower[,1]))/10800000000, lty=2, col='orange')\n",
    "lines((10^(pred$lower[,2]))/10800000000, lty=2, col='yellow')\n",
    "lines((10^(pred$upper[,1]))/10800000000, lty=2, col='orange')\n",
    "lines((10^(pred$upper[,2]))/10800000000, lty=2, col='yellow')\n",
    "legend(\"topleft\", legend=c(\"Data\", \"Prediccion\", \"Interv. Conf. 80%\", \"Interv. Conf. 95%\"), col=c(\"black\", \"blue\", \"orange\", \"yellow\"), lty=c(1,1,2,2), cex=0.8)"
   ]
  },
  {
   "cell_type": "markdown",
   "metadata": {},
   "source": [
    "Exportar la data resultante de la predicción."
   ]
  },
  {
   "cell_type": "code",
   "execution_count": 17,
   "metadata": {},
   "outputs": [],
   "source": [
    "pred_mean=10^(pred$mean)\n",
    "pred_lower80=10^(pred$lower[,1])\n",
    "pred_upper80=10^(pred$upper[,1])\n",
    "pred_lower95=10^(pred$lower[,2])\n",
    "pred_upper95=10^(pred$upper[,2])\n",
    "canal_pred=data.frame(pred=as.matrix(pred_mean), lower80=as.matrix(pred_lower80), upper80=as.matrix(pred_upper80), lower95=as.matrix(pred_lower95), upper95=as.matrix(pred_upper95))\n",
    "canal_pred=data.frame(week=round(time(pred_mean))+(round((time(pred_mean)-as.integer(time(pred_mean))+0.14286)/0.14286)/10), pred=as.matrix(pred_mean), lower80=as.matrix(pred_lower80), upper80=as.matrix(pred_upper80), lower95=as.matrix(pred_lower95), upper95=as.matrix(pred_upper95))\n",
    "write.csv(canal_pred, file=\"canal_pred.csv\", row.names=TRUE)"
   ]
  }
 ],
 "metadata": {
  "kernelspec": {
   "display_name": "R",
   "language": "R",
   "name": "ir"
  },
  "language_info": {
   "codemirror_mode": "r",
   "file_extension": ".r",
   "mimetype": "text/x-r-source",
   "name": "R",
   "pygments_lexer": "r",
   "version": "3.6.1"
  }
 },
 "nbformat": 4,
 "nbformat_minor": 2
}
